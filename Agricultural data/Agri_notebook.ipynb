{
 "cells": [
  {
   "cell_type": "markdown",
   "metadata": {},
   "source": [
    "### EDA on Agricultural Land "
   ]
  },
  {
   "cell_type": "code",
   "execution_count": 1,
   "metadata": {},
   "outputs": [],
   "source": [
    "import pandas as pd \n",
    "import seaborn as sns \n",
    "import numpy as np \n",
    "\n",
    "import matplotlib.pyplot as plt\n",
    "#load the Agricultural data\n",
    "agri_df = pd.read_csv(\"Agri_data_worldbank.csv\")\n",
    "\n",
    "#load the other associated data \n",
    "agri_meta_df = pd.read_csv(\"metadata_agri_data_worldbank.csv\")\n",
    "\n"
   ]
  },
  {
   "cell_type": "code",
   "execution_count": 2,
   "metadata": {},
   "outputs": [
    {
     "data": {
      "text/html": [
       "<div>\n",
       "<style scoped>\n",
       "    .dataframe tbody tr th:only-of-type {\n",
       "        vertical-align: middle;\n",
       "    }\n",
       "\n",
       "    .dataframe tbody tr th {\n",
       "        vertical-align: top;\n",
       "    }\n",
       "\n",
       "    .dataframe thead th {\n",
       "        text-align: right;\n",
       "    }\n",
       "</style>\n",
       "<table border=\"1\" class=\"dataframe\">\n",
       "  <thead>\n",
       "    <tr style=\"text-align: right;\">\n",
       "      <th></th>\n",
       "      <th>Country Name</th>\n",
       "      <th>Country Code</th>\n",
       "      <th>Indicator Name</th>\n",
       "      <th>Indicator Code</th>\n",
       "      <th>1960</th>\n",
       "      <th>1961</th>\n",
       "      <th>1962</th>\n",
       "      <th>1963</th>\n",
       "      <th>1964</th>\n",
       "      <th>1965</th>\n",
       "      <th>...</th>\n",
       "      <th>2014</th>\n",
       "      <th>2015</th>\n",
       "      <th>2016</th>\n",
       "      <th>2017</th>\n",
       "      <th>2018</th>\n",
       "      <th>2019</th>\n",
       "      <th>2020</th>\n",
       "      <th>2021</th>\n",
       "      <th>2022</th>\n",
       "      <th>2023</th>\n",
       "    </tr>\n",
       "  </thead>\n",
       "  <tbody>\n",
       "    <tr>\n",
       "      <th>0</th>\n",
       "      <td>Aruba</td>\n",
       "      <td>ABW</td>\n",
       "      <td>Agricultural land (sq. km)</td>\n",
       "      <td>AG.LND.AGRI.K2</td>\n",
       "      <td>NaN</td>\n",
       "      <td>20.0</td>\n",
       "      <td>20.0</td>\n",
       "      <td>20.0</td>\n",
       "      <td>20.0</td>\n",
       "      <td>20.0</td>\n",
       "      <td>...</td>\n",
       "      <td>20.000</td>\n",
       "      <td>20.0</td>\n",
       "      <td>20.000</td>\n",
       "      <td>20.00</td>\n",
       "      <td>20.00</td>\n",
       "      <td>20.00</td>\n",
       "      <td>20.00</td>\n",
       "      <td>20.00</td>\n",
       "      <td>NaN</td>\n",
       "      <td>NaN</td>\n",
       "    </tr>\n",
       "    <tr>\n",
       "      <th>1</th>\n",
       "      <td>Africa Eastern and Southern</td>\n",
       "      <td>AFE</td>\n",
       "      <td>Agricultural land (sq. km)</td>\n",
       "      <td>AG.LND.AGRI.K2</td>\n",
       "      <td>NaN</td>\n",
       "      <td>6170420.0</td>\n",
       "      <td>6167940.0</td>\n",
       "      <td>6173000.0</td>\n",
       "      <td>6170130.0</td>\n",
       "      <td>6167390.0</td>\n",
       "      <td>...</td>\n",
       "      <td>6825399.195</td>\n",
       "      <td>6836525.8</td>\n",
       "      <td>6851382.225</td>\n",
       "      <td>6868999.45</td>\n",
       "      <td>6882362.22</td>\n",
       "      <td>6891016.22</td>\n",
       "      <td>6898158.22</td>\n",
       "      <td>6900855.82</td>\n",
       "      <td>NaN</td>\n",
       "      <td>NaN</td>\n",
       "    </tr>\n",
       "    <tr>\n",
       "      <th>2</th>\n",
       "      <td>Afghanistan</td>\n",
       "      <td>AFG</td>\n",
       "      <td>Agricultural land (sq. km)</td>\n",
       "      <td>AG.LND.AGRI.K2</td>\n",
       "      <td>NaN</td>\n",
       "      <td>377500.0</td>\n",
       "      <td>378000.0</td>\n",
       "      <td>378500.0</td>\n",
       "      <td>379050.0</td>\n",
       "      <td>379100.0</td>\n",
       "      <td>...</td>\n",
       "      <td>379100.000</td>\n",
       "      <td>379100.0</td>\n",
       "      <td>379100.000</td>\n",
       "      <td>379100.00</td>\n",
       "      <td>380100.00</td>\n",
       "      <td>380100.00</td>\n",
       "      <td>383130.00</td>\n",
       "      <td>383130.00</td>\n",
       "      <td>NaN</td>\n",
       "      <td>NaN</td>\n",
       "    </tr>\n",
       "  </tbody>\n",
       "</table>\n",
       "<p>3 rows × 68 columns</p>\n",
       "</div>"
      ],
      "text/plain": [
       "                  Country Name Country Code              Indicator Name  \\\n",
       "0                        Aruba          ABW  Agricultural land (sq. km)   \n",
       "1  Africa Eastern and Southern          AFE  Agricultural land (sq. km)   \n",
       "2                  Afghanistan          AFG  Agricultural land (sq. km)   \n",
       "\n",
       "   Indicator Code  1960       1961       1962       1963       1964  \\\n",
       "0  AG.LND.AGRI.K2   NaN       20.0       20.0       20.0       20.0   \n",
       "1  AG.LND.AGRI.K2   NaN  6170420.0  6167940.0  6173000.0  6170130.0   \n",
       "2  AG.LND.AGRI.K2   NaN   377500.0   378000.0   378500.0   379050.0   \n",
       "\n",
       "        1965  ...         2014       2015         2016        2017  \\\n",
       "0       20.0  ...       20.000       20.0       20.000       20.00   \n",
       "1  6167390.0  ...  6825399.195  6836525.8  6851382.225  6868999.45   \n",
       "2   379100.0  ...   379100.000   379100.0   379100.000   379100.00   \n",
       "\n",
       "         2018        2019        2020        2021  2022  2023  \n",
       "0       20.00       20.00       20.00       20.00   NaN   NaN  \n",
       "1  6882362.22  6891016.22  6898158.22  6900855.82   NaN   NaN  \n",
       "2   380100.00   380100.00   383130.00   383130.00   NaN   NaN  \n",
       "\n",
       "[3 rows x 68 columns]"
      ]
     },
     "execution_count": 2,
     "metadata": {},
     "output_type": "execute_result"
    }
   ],
   "source": [
    "agri_df.head(3)"
   ]
  },
  {
   "cell_type": "code",
   "execution_count": 3,
   "metadata": {},
   "outputs": [
    {
     "name": "stdout",
     "output_type": "stream",
     "text": [
      "<class 'pandas.core.frame.DataFrame'>\n",
      "RangeIndex: 266 entries, 0 to 265\n",
      "Data columns (total 68 columns):\n",
      " #   Column          Non-Null Count  Dtype  \n",
      "---  ------          --------------  -----  \n",
      " 0   Country Name    266 non-null    object \n",
      " 1   Country Code    266 non-null    object \n",
      " 2   Indicator Name  266 non-null    object \n",
      " 3   Indicator Code  266 non-null    object \n",
      " 4   1960            0 non-null      float64\n",
      " 5   1961            255 non-null    float64\n",
      " 6   1962            255 non-null    float64\n",
      " 7   1963            255 non-null    float64\n",
      " 8   1964            255 non-null    float64\n",
      " 9   1965            255 non-null    float64\n",
      " 10  1966            255 non-null    float64\n",
      " 11  1967            255 non-null    float64\n",
      " 12  1968            255 non-null    float64\n",
      " 13  1969            255 non-null    float64\n",
      " 14  1970            255 non-null    float64\n",
      " 15  1971            255 non-null    float64\n",
      " 16  1972            255 non-null    float64\n",
      " 17  1973            255 non-null    float64\n",
      " 18  1974            255 non-null    float64\n",
      " 19  1975            255 non-null    float64\n",
      " 20  1976            255 non-null    float64\n",
      " 21  1977            255 non-null    float64\n",
      " 22  1978            255 non-null    float64\n",
      " 23  1979            255 non-null    float64\n",
      " 24  1980            255 non-null    float64\n",
      " 25  1981            255 non-null    float64\n",
      " 26  1982            255 non-null    float64\n",
      " 27  1983            255 non-null    float64\n",
      " 28  1984            255 non-null    float64\n",
      " 29  1985            255 non-null    float64\n",
      " 30  1986            255 non-null    float64\n",
      " 31  1987            255 non-null    float64\n",
      " 32  1988            255 non-null    float64\n",
      " 33  1989            255 non-null    float64\n",
      " 34  1990            255 non-null    float64\n",
      " 35  1991            255 non-null    float64\n",
      " 36  1992            255 non-null    float64\n",
      " 37  1993            256 non-null    float64\n",
      " 38  1994            256 non-null    float64\n",
      " 39  1995            256 non-null    float64\n",
      " 40  1996            256 non-null    float64\n",
      " 41  1997            256 non-null    float64\n",
      " 42  1998            256 non-null    float64\n",
      " 43  1999            256 non-null    float64\n",
      " 44  2000            257 non-null    float64\n",
      " 45  2001            257 non-null    float64\n",
      " 46  2002            257 non-null    float64\n",
      " 47  2003            257 non-null    float64\n",
      " 48  2004            257 non-null    float64\n",
      " 49  2005            257 non-null    float64\n",
      " 50  2006            257 non-null    float64\n",
      " 51  2007            257 non-null    float64\n",
      " 52  2008            257 non-null    float64\n",
      " 53  2009            257 non-null    float64\n",
      " 54  2010            257 non-null    float64\n",
      " 55  2011            257 non-null    float64\n",
      " 56  2012            258 non-null    float64\n",
      " 57  2013            258 non-null    float64\n",
      " 58  2014            258 non-null    float64\n",
      " 59  2015            258 non-null    float64\n",
      " 60  2016            258 non-null    float64\n",
      " 61  2017            258 non-null    float64\n",
      " 62  2018            258 non-null    float64\n",
      " 63  2019            258 non-null    float64\n",
      " 64  2020            258 non-null    float64\n",
      " 65  2021            258 non-null    float64\n",
      " 66  2022            0 non-null      float64\n",
      " 67  2023            0 non-null      float64\n",
      "dtypes: float64(64), object(4)\n",
      "memory usage: 141.4+ KB\n"
     ]
    }
   ],
   "source": [
    "#check for NAN values\n",
    "agri_df.info()"
   ]
  },
  {
   "cell_type": "code",
   "execution_count": 4,
   "metadata": {},
   "outputs": [
    {
     "name": "stdout",
     "output_type": "stream",
     "text": [
      "<class 'pandas.core.frame.DataFrame'>\n",
      "RangeIndex: 265 entries, 0 to 264\n",
      "Data columns (total 6 columns):\n",
      " #   Column        Non-Null Count  Dtype  \n",
      "---  ------        --------------  -----  \n",
      " 0   Country Code  265 non-null    object \n",
      " 1   Region        217 non-null    object \n",
      " 2   IncomeGroup   216 non-null    object \n",
      " 3   SpecialNotes  127 non-null    object \n",
      " 4   TableName     265 non-null    object \n",
      " 5   Unnamed: 5    0 non-null      float64\n",
      "dtypes: float64(1), object(5)\n",
      "memory usage: 12.6+ KB\n"
     ]
    }
   ],
   "source": [
    "agri_meta_df.info()\n"
   ]
  },
  {
   "cell_type": "code",
   "execution_count": 5,
   "metadata": {},
   "outputs": [],
   "source": [
    "merged1_df= pd.merge(agri_df, agri_meta_df, on= \"Country Code\", how= \"inner\")"
   ]
  },
  {
   "cell_type": "code",
   "execution_count": 6,
   "metadata": {},
   "outputs": [
    {
     "data": {
      "text/html": [
       "<div>\n",
       "<style scoped>\n",
       "    .dataframe tbody tr th:only-of-type {\n",
       "        vertical-align: middle;\n",
       "    }\n",
       "\n",
       "    .dataframe tbody tr th {\n",
       "        vertical-align: top;\n",
       "    }\n",
       "\n",
       "    .dataframe thead th {\n",
       "        text-align: right;\n",
       "    }\n",
       "</style>\n",
       "<table border=\"1\" class=\"dataframe\">\n",
       "  <thead>\n",
       "    <tr style=\"text-align: right;\">\n",
       "      <th></th>\n",
       "      <th>Country Name</th>\n",
       "      <th>Country Code</th>\n",
       "      <th>Indicator Name</th>\n",
       "      <th>Indicator Code</th>\n",
       "      <th>1960</th>\n",
       "      <th>1961</th>\n",
       "      <th>1962</th>\n",
       "      <th>1963</th>\n",
       "      <th>1964</th>\n",
       "      <th>1965</th>\n",
       "      <th>...</th>\n",
       "      <th>2019</th>\n",
       "      <th>2020</th>\n",
       "      <th>2021</th>\n",
       "      <th>2022</th>\n",
       "      <th>2023</th>\n",
       "      <th>Region</th>\n",
       "      <th>IncomeGroup</th>\n",
       "      <th>SpecialNotes</th>\n",
       "      <th>TableName</th>\n",
       "      <th>Unnamed: 5</th>\n",
       "    </tr>\n",
       "  </thead>\n",
       "  <tbody>\n",
       "    <tr>\n",
       "      <th>0</th>\n",
       "      <td>Aruba</td>\n",
       "      <td>ABW</td>\n",
       "      <td>Agricultural land (sq. km)</td>\n",
       "      <td>AG.LND.AGRI.K2</td>\n",
       "      <td>NaN</td>\n",
       "      <td>20.0</td>\n",
       "      <td>20.0</td>\n",
       "      <td>20.0</td>\n",
       "      <td>20.0</td>\n",
       "      <td>20.0</td>\n",
       "      <td>...</td>\n",
       "      <td>20.00</td>\n",
       "      <td>20.00</td>\n",
       "      <td>20.00</td>\n",
       "      <td>NaN</td>\n",
       "      <td>NaN</td>\n",
       "      <td>Latin America &amp; Caribbean</td>\n",
       "      <td>High income</td>\n",
       "      <td>NaN</td>\n",
       "      <td>Aruba</td>\n",
       "      <td>NaN</td>\n",
       "    </tr>\n",
       "    <tr>\n",
       "      <th>1</th>\n",
       "      <td>Africa Eastern and Southern</td>\n",
       "      <td>AFE</td>\n",
       "      <td>Agricultural land (sq. km)</td>\n",
       "      <td>AG.LND.AGRI.K2</td>\n",
       "      <td>NaN</td>\n",
       "      <td>6170420.0</td>\n",
       "      <td>6167940.0</td>\n",
       "      <td>6173000.0</td>\n",
       "      <td>6170130.0</td>\n",
       "      <td>6167390.0</td>\n",
       "      <td>...</td>\n",
       "      <td>6891016.22</td>\n",
       "      <td>6898158.22</td>\n",
       "      <td>6900855.82</td>\n",
       "      <td>NaN</td>\n",
       "      <td>NaN</td>\n",
       "      <td>NaN</td>\n",
       "      <td>NaN</td>\n",
       "      <td>26 countries, stretching from the Red Sea in t...</td>\n",
       "      <td>Africa Eastern and Southern</td>\n",
       "      <td>NaN</td>\n",
       "    </tr>\n",
       "    <tr>\n",
       "      <th>2</th>\n",
       "      <td>Afghanistan</td>\n",
       "      <td>AFG</td>\n",
       "      <td>Agricultural land (sq. km)</td>\n",
       "      <td>AG.LND.AGRI.K2</td>\n",
       "      <td>NaN</td>\n",
       "      <td>377500.0</td>\n",
       "      <td>378000.0</td>\n",
       "      <td>378500.0</td>\n",
       "      <td>379050.0</td>\n",
       "      <td>379100.0</td>\n",
       "      <td>...</td>\n",
       "      <td>380100.00</td>\n",
       "      <td>383130.00</td>\n",
       "      <td>383130.00</td>\n",
       "      <td>NaN</td>\n",
       "      <td>NaN</td>\n",
       "      <td>South Asia</td>\n",
       "      <td>Low income</td>\n",
       "      <td>The reporting period for national accounts dat...</td>\n",
       "      <td>Afghanistan</td>\n",
       "      <td>NaN</td>\n",
       "    </tr>\n",
       "  </tbody>\n",
       "</table>\n",
       "<p>3 rows × 73 columns</p>\n",
       "</div>"
      ],
      "text/plain": [
       "                  Country Name Country Code              Indicator Name  \\\n",
       "0                        Aruba          ABW  Agricultural land (sq. km)   \n",
       "1  Africa Eastern and Southern          AFE  Agricultural land (sq. km)   \n",
       "2                  Afghanistan          AFG  Agricultural land (sq. km)   \n",
       "\n",
       "   Indicator Code  1960       1961       1962       1963       1964  \\\n",
       "0  AG.LND.AGRI.K2   NaN       20.0       20.0       20.0       20.0   \n",
       "1  AG.LND.AGRI.K2   NaN  6170420.0  6167940.0  6173000.0  6170130.0   \n",
       "2  AG.LND.AGRI.K2   NaN   377500.0   378000.0   378500.0   379050.0   \n",
       "\n",
       "        1965  ...        2019        2020        2021  2022  2023  \\\n",
       "0       20.0  ...       20.00       20.00       20.00   NaN   NaN   \n",
       "1  6167390.0  ...  6891016.22  6898158.22  6900855.82   NaN   NaN   \n",
       "2   379100.0  ...   380100.00   383130.00   383130.00   NaN   NaN   \n",
       "\n",
       "                      Region  IncomeGroup  \\\n",
       "0  Latin America & Caribbean  High income   \n",
       "1                        NaN          NaN   \n",
       "2                 South Asia   Low income   \n",
       "\n",
       "                                        SpecialNotes  \\\n",
       "0                                                NaN   \n",
       "1  26 countries, stretching from the Red Sea in t...   \n",
       "2  The reporting period for national accounts dat...   \n",
       "\n",
       "                     TableName  Unnamed: 5  \n",
       "0                        Aruba         NaN  \n",
       "1  Africa Eastern and Southern         NaN  \n",
       "2                  Afghanistan         NaN  \n",
       "\n",
       "[3 rows x 73 columns]"
      ]
     },
     "execution_count": 6,
     "metadata": {},
     "output_type": "execute_result"
    }
   ],
   "source": [
    "merged1_df.head(3)"
   ]
  },
  {
   "cell_type": "code",
   "execution_count": 7,
   "metadata": {},
   "outputs": [],
   "source": [
    "# drop the Unnamed:5 column\n",
    "merged1_df.drop(\"Unnamed: 5\", axis=1, inplace=True)"
   ]
  },
  {
   "cell_type": "code",
   "execution_count": 8,
   "metadata": {},
   "outputs": [
    {
     "data": {
      "text/plain": [
       "Index(['Country Name', 'Country Code', 'Indicator Name', 'Indicator Code',\n",
       "       '1960', '1961', '1962', '1963', '1964', '1965', '1966', '1967', '1968',\n",
       "       '1969', '1970', '1971', '1972', '1973', '1974', '1975', '1976', '1977',\n",
       "       '1978', '1979', '1980', '1981', '1982', '1983', '1984', '1985', '1986',\n",
       "       '1987', '1988', '1989', '1990', '1991', '1992', '1993', '1994', '1995',\n",
       "       '1996', '1997', '1998', '1999', '2000', '2001', '2002', '2003', '2004',\n",
       "       '2005', '2006', '2007', '2008', '2009', '2010', '2011', '2012', '2013',\n",
       "       '2014', '2015', '2016', '2017', '2018', '2019', '2020', '2021', '2022',\n",
       "       '2023', 'Region', 'IncomeGroup', 'SpecialNotes', 'TableName'],\n",
       "      dtype='object')"
      ]
     },
     "execution_count": 8,
     "metadata": {},
     "output_type": "execute_result"
    }
   ],
   "source": [
    "merged1_df.columns"
   ]
  },
  {
   "cell_type": "code",
   "execution_count": 9,
   "metadata": {},
   "outputs": [],
   "source": [
    "new_order_df= ['Country Name', 'Country Code', 'Indicator Name', 'Indicator Code','Region', 'IncomeGroup', 'SpecialNotes', 'TableName','1960', '1961', '1962', '1963', '1964', '1965', '1966', '1967', '1968',\n",
    "       '1969', '1970', '1971', '1972', '1973', '1974', '1975', '1976', '1977',\n",
    "       '1978', '1979', '1980', '1981', '1982', '1983', '1984', '1985', '1986',\n",
    "       '1987', '1988', '1989', '1990', '1991', '1992', '1993', '1994', '1995',\n",
    "       '1996', '1997', '1998', '1999', '2000', '2001', '2002', '2003', '2004',\n",
    "       '2005', '2006', '2007', '2008', '2009', '2010', '2011', '2012', '2013',\n",
    "       '2014', '2015', '2016', '2017', '2018', '2019', '2020', '2021', '2022',\n",
    "       '2023']"
   ]
  },
  {
   "cell_type": "code",
   "execution_count": 10,
   "metadata": {},
   "outputs": [],
   "source": [
    "new_merged_df= merged1_df[new_order_df]"
   ]
  },
  {
   "cell_type": "code",
   "execution_count": 11,
   "metadata": {},
   "outputs": [
    {
     "data": {
      "text/plain": [
       "Index(['Country Name', 'Country Code', 'Indicator Name', 'Indicator Code',\n",
       "       'Region', 'IncomeGroup', 'SpecialNotes', 'TableName', '1960', '1961',\n",
       "       '1962', '1963', '1964', '1965', '1966', '1967', '1968', '1969', '1970',\n",
       "       '1971', '1972', '1973', '1974', '1975', '1976', '1977', '1978', '1979',\n",
       "       '1980', '1981', '1982', '1983', '1984', '1985', '1986', '1987', '1988',\n",
       "       '1989', '1990', '1991', '1992', '1993', '1994', '1995', '1996', '1997',\n",
       "       '1998', '1999', '2000', '2001', '2002', '2003', '2004', '2005', '2006',\n",
       "       '2007', '2008', '2009', '2010', '2011', '2012', '2013', '2014', '2015',\n",
       "       '2016', '2017', '2018', '2019', '2020', '2021', '2022', '2023'],\n",
       "      dtype='object')"
      ]
     },
     "execution_count": 11,
     "metadata": {},
     "output_type": "execute_result"
    }
   ],
   "source": [
    "new_merged_df.columns"
   ]
  },
  {
   "cell_type": "code",
   "execution_count": 12,
   "metadata": {},
   "outputs": [
    {
     "data": {
      "text/html": [
       "<div>\n",
       "<style scoped>\n",
       "    .dataframe tbody tr th:only-of-type {\n",
       "        vertical-align: middle;\n",
       "    }\n",
       "\n",
       "    .dataframe tbody tr th {\n",
       "        vertical-align: top;\n",
       "    }\n",
       "\n",
       "    .dataframe thead th {\n",
       "        text-align: right;\n",
       "    }\n",
       "</style>\n",
       "<table border=\"1\" class=\"dataframe\">\n",
       "  <thead>\n",
       "    <tr style=\"text-align: right;\">\n",
       "      <th></th>\n",
       "      <th>Country Name</th>\n",
       "      <th>Country Code</th>\n",
       "      <th>Indicator Name</th>\n",
       "      <th>Indicator Code</th>\n",
       "      <th>Region</th>\n",
       "      <th>IncomeGroup</th>\n",
       "      <th>SpecialNotes</th>\n",
       "      <th>TableName</th>\n",
       "      <th>1960</th>\n",
       "      <th>1961</th>\n",
       "      <th>...</th>\n",
       "      <th>2014</th>\n",
       "      <th>2015</th>\n",
       "      <th>2016</th>\n",
       "      <th>2017</th>\n",
       "      <th>2018</th>\n",
       "      <th>2019</th>\n",
       "      <th>2020</th>\n",
       "      <th>2021</th>\n",
       "      <th>2022</th>\n",
       "      <th>2023</th>\n",
       "    </tr>\n",
       "  </thead>\n",
       "  <tbody>\n",
       "    <tr>\n",
       "      <th>0</th>\n",
       "      <td>Aruba</td>\n",
       "      <td>ABW</td>\n",
       "      <td>Agricultural land (sq. km)</td>\n",
       "      <td>AG.LND.AGRI.K2</td>\n",
       "      <td>Latin America &amp; Caribbean</td>\n",
       "      <td>High income</td>\n",
       "      <td>NaN</td>\n",
       "      <td>Aruba</td>\n",
       "      <td>NaN</td>\n",
       "      <td>20.0</td>\n",
       "      <td>...</td>\n",
       "      <td>20.000</td>\n",
       "      <td>20.0</td>\n",
       "      <td>20.000</td>\n",
       "      <td>20.00</td>\n",
       "      <td>20.00</td>\n",
       "      <td>20.00</td>\n",
       "      <td>20.00</td>\n",
       "      <td>20.00</td>\n",
       "      <td>NaN</td>\n",
       "      <td>NaN</td>\n",
       "    </tr>\n",
       "    <tr>\n",
       "      <th>1</th>\n",
       "      <td>Africa Eastern and Southern</td>\n",
       "      <td>AFE</td>\n",
       "      <td>Agricultural land (sq. km)</td>\n",
       "      <td>AG.LND.AGRI.K2</td>\n",
       "      <td>NaN</td>\n",
       "      <td>NaN</td>\n",
       "      <td>26 countries, stretching from the Red Sea in t...</td>\n",
       "      <td>Africa Eastern and Southern</td>\n",
       "      <td>NaN</td>\n",
       "      <td>6170420.0</td>\n",
       "      <td>...</td>\n",
       "      <td>6825399.195</td>\n",
       "      <td>6836525.8</td>\n",
       "      <td>6851382.225</td>\n",
       "      <td>6868999.45</td>\n",
       "      <td>6882362.22</td>\n",
       "      <td>6891016.22</td>\n",
       "      <td>6898158.22</td>\n",
       "      <td>6900855.82</td>\n",
       "      <td>NaN</td>\n",
       "      <td>NaN</td>\n",
       "    </tr>\n",
       "    <tr>\n",
       "      <th>2</th>\n",
       "      <td>Afghanistan</td>\n",
       "      <td>AFG</td>\n",
       "      <td>Agricultural land (sq. km)</td>\n",
       "      <td>AG.LND.AGRI.K2</td>\n",
       "      <td>South Asia</td>\n",
       "      <td>Low income</td>\n",
       "      <td>The reporting period for national accounts dat...</td>\n",
       "      <td>Afghanistan</td>\n",
       "      <td>NaN</td>\n",
       "      <td>377500.0</td>\n",
       "      <td>...</td>\n",
       "      <td>379100.000</td>\n",
       "      <td>379100.0</td>\n",
       "      <td>379100.000</td>\n",
       "      <td>379100.00</td>\n",
       "      <td>380100.00</td>\n",
       "      <td>380100.00</td>\n",
       "      <td>383130.00</td>\n",
       "      <td>383130.00</td>\n",
       "      <td>NaN</td>\n",
       "      <td>NaN</td>\n",
       "    </tr>\n",
       "  </tbody>\n",
       "</table>\n",
       "<p>3 rows × 72 columns</p>\n",
       "</div>"
      ],
      "text/plain": [
       "                  Country Name Country Code              Indicator Name  \\\n",
       "0                        Aruba          ABW  Agricultural land (sq. km)   \n",
       "1  Africa Eastern and Southern          AFE  Agricultural land (sq. km)   \n",
       "2                  Afghanistan          AFG  Agricultural land (sq. km)   \n",
       "\n",
       "   Indicator Code                     Region  IncomeGroup  \\\n",
       "0  AG.LND.AGRI.K2  Latin America & Caribbean  High income   \n",
       "1  AG.LND.AGRI.K2                        NaN          NaN   \n",
       "2  AG.LND.AGRI.K2                 South Asia   Low income   \n",
       "\n",
       "                                        SpecialNotes  \\\n",
       "0                                                NaN   \n",
       "1  26 countries, stretching from the Red Sea in t...   \n",
       "2  The reporting period for national accounts dat...   \n",
       "\n",
       "                     TableName  1960       1961  ...         2014       2015  \\\n",
       "0                        Aruba   NaN       20.0  ...       20.000       20.0   \n",
       "1  Africa Eastern and Southern   NaN  6170420.0  ...  6825399.195  6836525.8   \n",
       "2                  Afghanistan   NaN   377500.0  ...   379100.000   379100.0   \n",
       "\n",
       "          2016        2017        2018        2019        2020        2021  \\\n",
       "0       20.000       20.00       20.00       20.00       20.00       20.00   \n",
       "1  6851382.225  6868999.45  6882362.22  6891016.22  6898158.22  6900855.82   \n",
       "2   379100.000   379100.00   380100.00   380100.00   383130.00   383130.00   \n",
       "\n",
       "   2022  2023  \n",
       "0   NaN   NaN  \n",
       "1   NaN   NaN  \n",
       "2   NaN   NaN  \n",
       "\n",
       "[3 rows x 72 columns]"
      ]
     },
     "execution_count": 12,
     "metadata": {},
     "output_type": "execute_result"
    }
   ],
   "source": [
    "new_merged_df.head(3)"
   ]
  },
  {
   "cell_type": "code",
   "execution_count": 13,
   "metadata": {},
   "outputs": [
    {
     "name": "stdout",
     "output_type": "stream",
     "text": [
      "<class 'pandas.core.frame.DataFrame'>\n",
      "RangeIndex: 265 entries, 0 to 264\n",
      "Data columns (total 72 columns):\n",
      " #   Column          Non-Null Count  Dtype  \n",
      "---  ------          --------------  -----  \n",
      " 0   Country Name    265 non-null    object \n",
      " 1   Country Code    265 non-null    object \n",
      " 2   Indicator Name  265 non-null    object \n",
      " 3   Indicator Code  265 non-null    object \n",
      " 4   Region          217 non-null    object \n",
      " 5   IncomeGroup     216 non-null    object \n",
      " 6   SpecialNotes    127 non-null    object \n",
      " 7   TableName       265 non-null    object \n",
      " 8   1960            0 non-null      float64\n",
      " 9   1961            255 non-null    float64\n",
      " 10  1962            255 non-null    float64\n",
      " 11  1963            255 non-null    float64\n",
      " 12  1964            255 non-null    float64\n",
      " 13  1965            255 non-null    float64\n",
      " 14  1966            255 non-null    float64\n",
      " 15  1967            255 non-null    float64\n",
      " 16  1968            255 non-null    float64\n",
      " 17  1969            255 non-null    float64\n",
      " 18  1970            255 non-null    float64\n",
      " 19  1971            255 non-null    float64\n",
      " 20  1972            255 non-null    float64\n",
      " 21  1973            255 non-null    float64\n",
      " 22  1974            255 non-null    float64\n",
      " 23  1975            255 non-null    float64\n",
      " 24  1976            255 non-null    float64\n",
      " 25  1977            255 non-null    float64\n",
      " 26  1978            255 non-null    float64\n",
      " 27  1979            255 non-null    float64\n",
      " 28  1980            255 non-null    float64\n",
      " 29  1981            255 non-null    float64\n",
      " 30  1982            255 non-null    float64\n",
      " 31  1983            255 non-null    float64\n",
      " 32  1984            255 non-null    float64\n",
      " 33  1985            255 non-null    float64\n",
      " 34  1986            255 non-null    float64\n",
      " 35  1987            255 non-null    float64\n",
      " 36  1988            255 non-null    float64\n",
      " 37  1989            255 non-null    float64\n",
      " 38  1990            255 non-null    float64\n",
      " 39  1991            255 non-null    float64\n",
      " 40  1992            255 non-null    float64\n",
      " 41  1993            256 non-null    float64\n",
      " 42  1994            256 non-null    float64\n",
      " 43  1995            256 non-null    float64\n",
      " 44  1996            256 non-null    float64\n",
      " 45  1997            256 non-null    float64\n",
      " 46  1998            256 non-null    float64\n",
      " 47  1999            256 non-null    float64\n",
      " 48  2000            257 non-null    float64\n",
      " 49  2001            257 non-null    float64\n",
      " 50  2002            257 non-null    float64\n",
      " 51  2003            257 non-null    float64\n",
      " 52  2004            257 non-null    float64\n",
      " 53  2005            257 non-null    float64\n",
      " 54  2006            257 non-null    float64\n",
      " 55  2007            257 non-null    float64\n",
      " 56  2008            257 non-null    float64\n",
      " 57  2009            257 non-null    float64\n",
      " 58  2010            257 non-null    float64\n",
      " 59  2011            257 non-null    float64\n",
      " 60  2012            258 non-null    float64\n",
      " 61  2013            258 non-null    float64\n",
      " 62  2014            258 non-null    float64\n",
      " 63  2015            258 non-null    float64\n",
      " 64  2016            258 non-null    float64\n",
      " 65  2017            258 non-null    float64\n",
      " 66  2018            258 non-null    float64\n",
      " 67  2019            258 non-null    float64\n",
      " 68  2020            258 non-null    float64\n",
      " 69  2021            258 non-null    float64\n",
      " 70  2022            0 non-null      float64\n",
      " 71  2023            0 non-null      float64\n",
      "dtypes: float64(64), object(8)\n",
      "memory usage: 149.2+ KB\n"
     ]
    }
   ],
   "source": [
    "new_merged_df.info()\n"
   ]
  },
  {
   "cell_type": "markdown",
   "metadata": {},
   "source": [
    "## clean the new merged df "
   ]
  },
  {
   "cell_type": "code",
   "execution_count": 14,
   "metadata": {},
   "outputs": [
    {
     "name": "stderr",
     "output_type": "stream",
     "text": [
      "C:\\Users\\aalok\\AppData\\Local\\Temp\\ipykernel_14788\\4073774862.py:1: SettingWithCopyWarning: \n",
      "A value is trying to be set on a copy of a slice from a DataFrame\n",
      "\n",
      "See the caveats in the documentation: https://pandas.pydata.org/pandas-docs/stable/user_guide/indexing.html#returning-a-view-versus-a-copy\n",
      "  new_merged_df.drop(\"1960\", axis=1, inplace=True)\n",
      "C:\\Users\\aalok\\AppData\\Local\\Temp\\ipykernel_14788\\4073774862.py:2: SettingWithCopyWarning: \n",
      "A value is trying to be set on a copy of a slice from a DataFrame\n",
      "\n",
      "See the caveats in the documentation: https://pandas.pydata.org/pandas-docs/stable/user_guide/indexing.html#returning-a-view-versus-a-copy\n",
      "  new_merged_df.drop(\"SpecialNotes\", axis=1, inplace=True)\n"
     ]
    }
   ],
   "source": [
    "new_merged_df.drop(\"1960\", axis=1, inplace=True)\n",
    "new_merged_df.drop(\"SpecialNotes\", axis=1, inplace=True)"
   ]
  },
  {
   "cell_type": "code",
   "execution_count": 15,
   "metadata": {},
   "outputs": [
    {
     "name": "stdout",
     "output_type": "stream",
     "text": [
      "<class 'pandas.core.frame.DataFrame'>\n",
      "RangeIndex: 265 entries, 0 to 264\n",
      "Data columns (total 70 columns):\n",
      " #   Column          Non-Null Count  Dtype  \n",
      "---  ------          --------------  -----  \n",
      " 0   Country Name    265 non-null    object \n",
      " 1   Country Code    265 non-null    object \n",
      " 2   Indicator Name  265 non-null    object \n",
      " 3   Indicator Code  265 non-null    object \n",
      " 4   Region          217 non-null    object \n",
      " 5   IncomeGroup     216 non-null    object \n",
      " 6   TableName       265 non-null    object \n",
      " 7   1961            255 non-null    float64\n",
      " 8   1962            255 non-null    float64\n",
      " 9   1963            255 non-null    float64\n",
      " 10  1964            255 non-null    float64\n",
      " 11  1965            255 non-null    float64\n",
      " 12  1966            255 non-null    float64\n",
      " 13  1967            255 non-null    float64\n",
      " 14  1968            255 non-null    float64\n",
      " 15  1969            255 non-null    float64\n",
      " 16  1970            255 non-null    float64\n",
      " 17  1971            255 non-null    float64\n",
      " 18  1972            255 non-null    float64\n",
      " 19  1973            255 non-null    float64\n",
      " 20  1974            255 non-null    float64\n",
      " 21  1975            255 non-null    float64\n",
      " 22  1976            255 non-null    float64\n",
      " 23  1977            255 non-null    float64\n",
      " 24  1978            255 non-null    float64\n",
      " 25  1979            255 non-null    float64\n",
      " 26  1980            255 non-null    float64\n",
      " 27  1981            255 non-null    float64\n",
      " 28  1982            255 non-null    float64\n",
      " 29  1983            255 non-null    float64\n",
      " 30  1984            255 non-null    float64\n",
      " 31  1985            255 non-null    float64\n",
      " 32  1986            255 non-null    float64\n",
      " 33  1987            255 non-null    float64\n",
      " 34  1988            255 non-null    float64\n",
      " 35  1989            255 non-null    float64\n",
      " 36  1990            255 non-null    float64\n",
      " 37  1991            255 non-null    float64\n",
      " 38  1992            255 non-null    float64\n",
      " 39  1993            256 non-null    float64\n",
      " 40  1994            256 non-null    float64\n",
      " 41  1995            256 non-null    float64\n",
      " 42  1996            256 non-null    float64\n",
      " 43  1997            256 non-null    float64\n",
      " 44  1998            256 non-null    float64\n",
      " 45  1999            256 non-null    float64\n",
      " 46  2000            257 non-null    float64\n",
      " 47  2001            257 non-null    float64\n",
      " 48  2002            257 non-null    float64\n",
      " 49  2003            257 non-null    float64\n",
      " 50  2004            257 non-null    float64\n",
      " 51  2005            257 non-null    float64\n",
      " 52  2006            257 non-null    float64\n",
      " 53  2007            257 non-null    float64\n",
      " 54  2008            257 non-null    float64\n",
      " 55  2009            257 non-null    float64\n",
      " 56  2010            257 non-null    float64\n",
      " 57  2011            257 non-null    float64\n",
      " 58  2012            258 non-null    float64\n",
      " 59  2013            258 non-null    float64\n",
      " 60  2014            258 non-null    float64\n",
      " 61  2015            258 non-null    float64\n",
      " 62  2016            258 non-null    float64\n",
      " 63  2017            258 non-null    float64\n",
      " 64  2018            258 non-null    float64\n",
      " 65  2019            258 non-null    float64\n",
      " 66  2020            258 non-null    float64\n",
      " 67  2021            258 non-null    float64\n",
      " 68  2022            0 non-null      float64\n",
      " 69  2023            0 non-null      float64\n",
      "dtypes: float64(63), object(7)\n",
      "memory usage: 145.1+ KB\n"
     ]
    }
   ],
   "source": [
    "new_merged_df.info()"
   ]
  },
  {
   "cell_type": "code",
   "execution_count": 16,
   "metadata": {},
   "outputs": [],
   "source": [
    "df = new_merged_df.copy()"
   ]
  },
  {
   "cell_type": "code",
   "execution_count": 17,
   "metadata": {},
   "outputs": [],
   "source": [
    "df_null  = df[df.isnull().sum()[df.isnull().sum()>0].index]"
   ]
  },
  {
   "cell_type": "code",
   "execution_count": 18,
   "metadata": {},
   "outputs": [
    {
     "data": {
      "text/html": [
       "<div>\n",
       "<style scoped>\n",
       "    .dataframe tbody tr th:only-of-type {\n",
       "        vertical-align: middle;\n",
       "    }\n",
       "\n",
       "    .dataframe tbody tr th {\n",
       "        vertical-align: top;\n",
       "    }\n",
       "\n",
       "    .dataframe thead th {\n",
       "        text-align: right;\n",
       "    }\n",
       "</style>\n",
       "<table border=\"1\" class=\"dataframe\">\n",
       "  <thead>\n",
       "    <tr style=\"text-align: right;\">\n",
       "      <th></th>\n",
       "      <th>Region</th>\n",
       "      <th>IncomeGroup</th>\n",
       "      <th>1961</th>\n",
       "      <th>1962</th>\n",
       "      <th>1963</th>\n",
       "      <th>1964</th>\n",
       "      <th>1965</th>\n",
       "      <th>1966</th>\n",
       "      <th>1967</th>\n",
       "      <th>1968</th>\n",
       "      <th>...</th>\n",
       "      <th>2014</th>\n",
       "      <th>2015</th>\n",
       "      <th>2016</th>\n",
       "      <th>2017</th>\n",
       "      <th>2018</th>\n",
       "      <th>2019</th>\n",
       "      <th>2020</th>\n",
       "      <th>2021</th>\n",
       "      <th>2022</th>\n",
       "      <th>2023</th>\n",
       "    </tr>\n",
       "  </thead>\n",
       "  <tbody>\n",
       "    <tr>\n",
       "      <th>0</th>\n",
       "      <td>Latin America &amp; Caribbean</td>\n",
       "      <td>High income</td>\n",
       "      <td>20.0</td>\n",
       "      <td>20.0</td>\n",
       "      <td>20.0</td>\n",
       "      <td>20.0</td>\n",
       "      <td>20.0</td>\n",
       "      <td>20.0</td>\n",
       "      <td>20.0</td>\n",
       "      <td>20.0</td>\n",
       "      <td>...</td>\n",
       "      <td>20.000</td>\n",
       "      <td>20.000</td>\n",
       "      <td>20.000</td>\n",
       "      <td>20.000</td>\n",
       "      <td>20.000</td>\n",
       "      <td>20.000</td>\n",
       "      <td>20.00</td>\n",
       "      <td>20.00</td>\n",
       "      <td>NaN</td>\n",
       "      <td>NaN</td>\n",
       "    </tr>\n",
       "    <tr>\n",
       "      <th>1</th>\n",
       "      <td>NaN</td>\n",
       "      <td>NaN</td>\n",
       "      <td>6170420.0</td>\n",
       "      <td>6167940.0</td>\n",
       "      <td>6173000.0</td>\n",
       "      <td>6170130.0</td>\n",
       "      <td>6167390.0</td>\n",
       "      <td>6170970.0</td>\n",
       "      <td>6172710.0</td>\n",
       "      <td>6177330.0</td>\n",
       "      <td>...</td>\n",
       "      <td>6825399.195</td>\n",
       "      <td>6836525.800</td>\n",
       "      <td>6851382.225</td>\n",
       "      <td>6868999.450</td>\n",
       "      <td>6882362.220</td>\n",
       "      <td>6891016.220</td>\n",
       "      <td>6898158.22</td>\n",
       "      <td>6900855.82</td>\n",
       "      <td>NaN</td>\n",
       "      <td>NaN</td>\n",
       "    </tr>\n",
       "    <tr>\n",
       "      <th>2</th>\n",
       "      <td>South Asia</td>\n",
       "      <td>Low income</td>\n",
       "      <td>377500.0</td>\n",
       "      <td>378000.0</td>\n",
       "      <td>378500.0</td>\n",
       "      <td>379050.0</td>\n",
       "      <td>379100.0</td>\n",
       "      <td>379550.0</td>\n",
       "      <td>379790.0</td>\n",
       "      <td>379800.0</td>\n",
       "      <td>...</td>\n",
       "      <td>379100.000</td>\n",
       "      <td>379100.000</td>\n",
       "      <td>379100.000</td>\n",
       "      <td>379100.000</td>\n",
       "      <td>380100.000</td>\n",
       "      <td>380100.000</td>\n",
       "      <td>383130.00</td>\n",
       "      <td>383130.00</td>\n",
       "      <td>NaN</td>\n",
       "      <td>NaN</td>\n",
       "    </tr>\n",
       "    <tr>\n",
       "      <th>3</th>\n",
       "      <td>NaN</td>\n",
       "      <td>NaN</td>\n",
       "      <td>2975436.6</td>\n",
       "      <td>2980116.6</td>\n",
       "      <td>2983536.6</td>\n",
       "      <td>2987026.6</td>\n",
       "      <td>2991566.6</td>\n",
       "      <td>2993116.6</td>\n",
       "      <td>2993716.6</td>\n",
       "      <td>3004636.6</td>\n",
       "      <td>...</td>\n",
       "      <td>3566587.601</td>\n",
       "      <td>3584392.737</td>\n",
       "      <td>3593613.009</td>\n",
       "      <td>3599340.982</td>\n",
       "      <td>3618614.614</td>\n",
       "      <td>3627121.603</td>\n",
       "      <td>3633870.46</td>\n",
       "      <td>3641770.46</td>\n",
       "      <td>NaN</td>\n",
       "      <td>NaN</td>\n",
       "    </tr>\n",
       "    <tr>\n",
       "      <th>4</th>\n",
       "      <td>Sub-Saharan Africa</td>\n",
       "      <td>Lower middle income</td>\n",
       "      <td>451770.0</td>\n",
       "      <td>451850.0</td>\n",
       "      <td>451820.0</td>\n",
       "      <td>451900.0</td>\n",
       "      <td>451870.0</td>\n",
       "      <td>451950.0</td>\n",
       "      <td>452020.0</td>\n",
       "      <td>452100.0</td>\n",
       "      <td>...</td>\n",
       "      <td>456740.000</td>\n",
       "      <td>457890.000</td>\n",
       "      <td>458240.000</td>\n",
       "      <td>457720.000</td>\n",
       "      <td>457920.000</td>\n",
       "      <td>458770.000</td>\n",
       "      <td>458920.00</td>\n",
       "      <td>458970.00</td>\n",
       "      <td>NaN</td>\n",
       "      <td>NaN</td>\n",
       "    </tr>\n",
       "  </tbody>\n",
       "</table>\n",
       "<p>5 rows × 65 columns</p>\n",
       "</div>"
      ],
      "text/plain": [
       "                      Region          IncomeGroup       1961       1962  \\\n",
       "0  Latin America & Caribbean          High income       20.0       20.0   \n",
       "1                        NaN                  NaN  6170420.0  6167940.0   \n",
       "2                 South Asia           Low income   377500.0   378000.0   \n",
       "3                        NaN                  NaN  2975436.6  2980116.6   \n",
       "4         Sub-Saharan Africa  Lower middle income   451770.0   451850.0   \n",
       "\n",
       "        1963       1964       1965       1966       1967       1968  ...  \\\n",
       "0       20.0       20.0       20.0       20.0       20.0       20.0  ...   \n",
       "1  6173000.0  6170130.0  6167390.0  6170970.0  6172710.0  6177330.0  ...   \n",
       "2   378500.0   379050.0   379100.0   379550.0   379790.0   379800.0  ...   \n",
       "3  2983536.6  2987026.6  2991566.6  2993116.6  2993716.6  3004636.6  ...   \n",
       "4   451820.0   451900.0   451870.0   451950.0   452020.0   452100.0  ...   \n",
       "\n",
       "          2014         2015         2016         2017         2018  \\\n",
       "0       20.000       20.000       20.000       20.000       20.000   \n",
       "1  6825399.195  6836525.800  6851382.225  6868999.450  6882362.220   \n",
       "2   379100.000   379100.000   379100.000   379100.000   380100.000   \n",
       "3  3566587.601  3584392.737  3593613.009  3599340.982  3618614.614   \n",
       "4   456740.000   457890.000   458240.000   457720.000   457920.000   \n",
       "\n",
       "          2019        2020        2021  2022  2023  \n",
       "0       20.000       20.00       20.00   NaN   NaN  \n",
       "1  6891016.220  6898158.22  6900855.82   NaN   NaN  \n",
       "2   380100.000   383130.00   383130.00   NaN   NaN  \n",
       "3  3627121.603  3633870.46  3641770.46   NaN   NaN  \n",
       "4   458770.000   458920.00   458970.00   NaN   NaN  \n",
       "\n",
       "[5 rows x 65 columns]"
      ]
     },
     "execution_count": 18,
     "metadata": {},
     "output_type": "execute_result"
    }
   ],
   "source": [
    "df_null.head()"
   ]
  },
  {
   "cell_type": "code",
   "execution_count": 19,
   "metadata": {},
   "outputs": [
    {
     "data": {
      "text/plain": [
       "<Axes: >"
      ]
     },
     "execution_count": 19,
     "metadata": {},
     "output_type": "execute_result"
    },
    {
     "data": {
      "image/png": "[encoded data removed]",
      "text/plain": [
       "<Figure size 640x480 with 2 Axes>"
      ]
     },
     "metadata": {},
     "output_type": "display_data"
    }
   ],
   "source": [
    "sns.heatmap(df_null.isnull())"
   ]
  },
  {
   "cell_type": "code",
   "execution_count": 20,
   "metadata": {},
   "outputs": [],
   "source": [
    "df_row_null =  df.isnull().mean(axis=1)\n",
    "\n",
    "df_filter= df[df_row_null <= 0.1]"
   ]
  },
  {
   "cell_type": "code",
   "execution_count": 21,
   "metadata": {},
   "outputs": [
    {
     "name": "stderr",
     "output_type": "stream",
     "text": [
      "C:\\Users\\aalok\\AppData\\Local\\Temp\\ipykernel_14788\\3940873084.py:1: SettingWithCopyWarning: \n",
      "A value is trying to be set on a copy of a slice from a DataFrame\n",
      "\n",
      "See the caveats in the documentation: https://pandas.pydata.org/pandas-docs/stable/user_guide/indexing.html#returning-a-view-versus-a-copy\n",
      "  df_filter.drop(\"2022\", axis=1, inplace=True)\n",
      "C:\\Users\\aalok\\AppData\\Local\\Temp\\ipykernel_14788\\3940873084.py:2: SettingWithCopyWarning: \n",
      "A value is trying to be set on a copy of a slice from a DataFrame\n",
      "\n",
      "See the caveats in the documentation: https://pandas.pydata.org/pandas-docs/stable/user_guide/indexing.html#returning-a-view-versus-a-copy\n",
      "  df_filter.drop(\"2023\", axis=1, inplace=True)\n"
     ]
    }
   ],
   "source": [
    "df_filter.drop(\"2022\", axis=1, inplace=True)\n",
    "df_filter.drop(\"2023\", axis=1, inplace=True)"
   ]
  },
  {
   "cell_type": "code",
   "execution_count": 22,
   "metadata": {},
   "outputs": [
    {
     "data": {
      "text/plain": [
       "IncomeGroup\n",
       "High income            85\n",
       "Upper middle income    54\n",
       "Lower middle income    51\n",
       "Low income             26\n",
       "Name: count, dtype: int64"
      ]
     },
     "execution_count": 22,
     "metadata": {},
     "output_type": "execute_result"
    }
   ],
   "source": [
    "new_merged_df[\"IncomeGroup\"].value_counts()"
   ]
  },
  {
   "cell_type": "code",
   "execution_count": 23,
   "metadata": {},
   "outputs": [
    {
     "data": {
      "text/plain": [
       "np.int64(49)"
      ]
     },
     "execution_count": 23,
     "metadata": {},
     "output_type": "execute_result"
    }
   ],
   "source": [
    "new_merged_df[\"IncomeGroup\"].isna().sum()"
   ]
  },
  {
   "cell_type": "code",
   "execution_count": 24,
   "metadata": {},
   "outputs": [
    {
     "name": "stdout",
     "output_type": "stream",
     "text": [
      "<class 'pandas.core.frame.DataFrame'>\n",
      "Index: 255 entries, 0 to 264\n",
      "Data columns (total 68 columns):\n",
      " #   Column          Non-Null Count  Dtype  \n",
      "---  ------          --------------  -----  \n",
      " 0   Country Name    255 non-null    object \n",
      " 1   Country Code    255 non-null    object \n",
      " 2   Indicator Name  255 non-null    object \n",
      " 3   Indicator Code  255 non-null    object \n",
      " 4   Region          207 non-null    object \n",
      " 5   IncomeGroup     206 non-null    object \n",
      " 6   TableName       255 non-null    object \n",
      " 7   1961            255 non-null    float64\n",
      " 8   1962            255 non-null    float64\n",
      " 9   1963            255 non-null    float64\n",
      " 10  1964            255 non-null    float64\n",
      " 11  1965            255 non-null    float64\n",
      " 12  1966            255 non-null    float64\n",
      " 13  1967            255 non-null    float64\n",
      " 14  1968            255 non-null    float64\n",
      " 15  1969            255 non-null    float64\n",
      " 16  1970            255 non-null    float64\n",
      " 17  1971            255 non-null    float64\n",
      " 18  1972            255 non-null    float64\n",
      " 19  1973            255 non-null    float64\n",
      " 20  1974            255 non-null    float64\n",
      " 21  1975            255 non-null    float64\n",
      " 22  1976            255 non-null    float64\n",
      " 23  1977            255 non-null    float64\n",
      " 24  1978            255 non-null    float64\n",
      " 25  1979            255 non-null    float64\n",
      " 26  1980            255 non-null    float64\n",
      " 27  1981            255 non-null    float64\n",
      " 28  1982            255 non-null    float64\n",
      " 29  1983            255 non-null    float64\n",
      " 30  1984            255 non-null    float64\n",
      " 31  1985            255 non-null    float64\n",
      " 32  1986            255 non-null    float64\n",
      " 33  1987            255 non-null    float64\n",
      " 34  1988            255 non-null    float64\n",
      " 35  1989            255 non-null    float64\n",
      " 36  1990            255 non-null    float64\n",
      " 37  1991            255 non-null    float64\n",
      " 38  1992            255 non-null    float64\n",
      " 39  1993            255 non-null    float64\n",
      " 40  1994            255 non-null    float64\n",
      " 41  1995            255 non-null    float64\n",
      " 42  1996            255 non-null    float64\n",
      " 43  1997            255 non-null    float64\n",
      " 44  1998            255 non-null    float64\n",
      " 45  1999            255 non-null    float64\n",
      " 46  2000            255 non-null    float64\n",
      " 47  2001            255 non-null    float64\n",
      " 48  2002            255 non-null    float64\n",
      " 49  2003            255 non-null    float64\n",
      " 50  2004            255 non-null    float64\n",
      " 51  2005            255 non-null    float64\n",
      " 52  2006            255 non-null    float64\n",
      " 53  2007            255 non-null    float64\n",
      " 54  2008            255 non-null    float64\n",
      " 55  2009            255 non-null    float64\n",
      " 56  2010            255 non-null    float64\n",
      " 57  2011            255 non-null    float64\n",
      " 58  2012            255 non-null    float64\n",
      " 59  2013            255 non-null    float64\n",
      " 60  2014            255 non-null    float64\n",
      " 61  2015            255 non-null    float64\n",
      " 62  2016            255 non-null    float64\n",
      " 63  2017            255 non-null    float64\n",
      " 64  2018            255 non-null    float64\n",
      " 65  2019            255 non-null    float64\n",
      " 66  2020            255 non-null    float64\n",
      " 67  2021            255 non-null    float64\n",
      "dtypes: float64(61), object(7)\n",
      "memory usage: 137.5+ KB\n"
     ]
    }
   ],
   "source": [
    "df_filter.info()"
   ]
  },
  {
   "cell_type": "markdown",
   "metadata": {},
   "source": [
    "# Countries which had to remove from the analysis because of no information"
   ]
  },
  {
   "cell_type": "code",
   "execution_count": 25,
   "metadata": {},
   "outputs": [
    {
     "name": "stdout",
     "output_type": "stream",
     "text": [
      "['Curacao', 'Eritrea', 'Gibraltar', 'Luxembourg', 'Macao SAR, China', 'St. Martin (French part)', 'Monaco', 'South Sudan', 'Sint Maarten (Dutch part)', 'Kosovo']\n"
     ]
    }
   ],
   "source": [
    "missing= df[~df['Country Code'].isin(df_filter['Country Code'])]\n",
    "\n",
    "name_missing_country= missing[\"Country Name\"].tolist()\n",
    "\n",
    "print(name_missing_country)"
   ]
  },
  {
   "cell_type": "code",
   "execution_count": 26,
   "metadata": {},
   "outputs": [
    {
     "name": "stdout",
     "output_type": "stream",
     "text": [
      "<class 'pandas.core.frame.DataFrame'>\n",
      "Index: 255 entries, 0 to 264\n",
      "Data columns (total 68 columns):\n",
      " #   Column          Non-Null Count  Dtype  \n",
      "---  ------          --------------  -----  \n",
      " 0   Country Name    255 non-null    object \n",
      " 1   Country Code    255 non-null    object \n",
      " 2   Indicator Name  255 non-null    object \n",
      " 3   Indicator Code  255 non-null    object \n",
      " 4   Region          207 non-null    object \n",
      " 5   IncomeGroup     206 non-null    object \n",
      " 6   TableName       255 non-null    object \n",
      " 7   1961            255 non-null    float64\n",
      " 8   1962            255 non-null    float64\n",
      " 9   1963            255 non-null    float64\n",
      " 10  1964            255 non-null    float64\n",
      " 11  1965            255 non-null    float64\n",
      " 12  1966            255 non-null    float64\n",
      " 13  1967            255 non-null    float64\n",
      " 14  1968            255 non-null    float64\n",
      " 15  1969            255 non-null    float64\n",
      " 16  1970            255 non-null    float64\n",
      " 17  1971            255 non-null    float64\n",
      " 18  1972            255 non-null    float64\n",
      " 19  1973            255 non-null    float64\n",
      " 20  1974            255 non-null    float64\n",
      " 21  1975            255 non-null    float64\n",
      " 22  1976            255 non-null    float64\n",
      " 23  1977            255 non-null    float64\n",
      " 24  1978            255 non-null    float64\n",
      " 25  1979            255 non-null    float64\n",
      " 26  1980            255 non-null    float64\n",
      " 27  1981            255 non-null    float64\n",
      " 28  1982            255 non-null    float64\n",
      " 29  1983            255 non-null    float64\n",
      " 30  1984            255 non-null    float64\n",
      " 31  1985            255 non-null    float64\n",
      " 32  1986            255 non-null    float64\n",
      " 33  1987            255 non-null    float64\n",
      " 34  1988            255 non-null    float64\n",
      " 35  1989            255 non-null    float64\n",
      " 36  1990            255 non-null    float64\n",
      " 37  1991            255 non-null    float64\n",
      " 38  1992            255 non-null    float64\n",
      " 39  1993            255 non-null    float64\n",
      " 40  1994            255 non-null    float64\n",
      " 41  1995            255 non-null    float64\n",
      " 42  1996            255 non-null    float64\n",
      " 43  1997            255 non-null    float64\n",
      " 44  1998            255 non-null    float64\n",
      " 45  1999            255 non-null    float64\n",
      " 46  2000            255 non-null    float64\n",
      " 47  2001            255 non-null    float64\n",
      " 48  2002            255 non-null    float64\n",
      " 49  2003            255 non-null    float64\n",
      " 50  2004            255 non-null    float64\n",
      " 51  2005            255 non-null    float64\n",
      " 52  2006            255 non-null    float64\n",
      " 53  2007            255 non-null    float64\n",
      " 54  2008            255 non-null    float64\n",
      " 55  2009            255 non-null    float64\n",
      " 56  2010            255 non-null    float64\n",
      " 57  2011            255 non-null    float64\n",
      " 58  2012            255 non-null    float64\n",
      " 59  2013            255 non-null    float64\n",
      " 60  2014            255 non-null    float64\n",
      " 61  2015            255 non-null    float64\n",
      " 62  2016            255 non-null    float64\n",
      " 63  2017            255 non-null    float64\n",
      " 64  2018            255 non-null    float64\n",
      " 65  2019            255 non-null    float64\n",
      " 66  2020            255 non-null    float64\n",
      " 67  2021            255 non-null    float64\n",
      "dtypes: float64(61), object(7)\n",
      "memory usage: 137.5+ KB\n"
     ]
    }
   ],
   "source": [
    "df_filter.info()"
   ]
  },
  {
   "cell_type": "code",
   "execution_count": 27,
   "metadata": {},
   "outputs": [
    {
     "data": {
      "text/plain": [
       "Country Name       0.000000\n",
       "Country Code       0.000000\n",
       "Indicator Name     0.000000\n",
       "Indicator Code     0.000000\n",
       "Region            18.823529\n",
       "                    ...    \n",
       "2017               0.000000\n",
       "2018               0.000000\n",
       "2019               0.000000\n",
       "2020               0.000000\n",
       "2021               0.000000\n",
       "Length: 68, dtype: float64"
      ]
     },
     "execution_count": 27,
     "metadata": {},
     "output_type": "execute_result"
    }
   ],
   "source": [
    "df_filter.isnull().mean()*100"
   ]
  },
  {
   "cell_type": "code",
   "execution_count": 28,
   "metadata": {},
   "outputs": [
    {
     "data": {
      "text/plain": [
       "<Axes: xlabel='Region'>"
      ]
     },
     "execution_count": 28,
     "metadata": {},
     "output_type": "execute_result"
    },
    {
     "data": {
      "image/png": "[encoded data removed]",
      "text/plain": [
       "<Figure size 640x480 with 1 Axes>"
      ]
     },
     "metadata": {},
     "output_type": "display_data"
    }
   ],
   "source": [
    "df_filter[\"Region\"].value_counts().plot(kind= \"bar\")"
   ]
  },
  {
   "cell_type": "markdown",
   "metadata": {},
   "source": [
    "Since the mode is not veri prominent we cannot use simple impute with most frequent value and this is also evident when we see the percentage of null values in region column as the null value percentage is more than 5%. So in such case we will make another region variable names MISSING so that the algorithm understands that we don't have the necessary data for the missing rows"
   ]
  },
  {
   "cell_type": "code",
   "execution_count": 29,
   "metadata": {},
   "outputs": [
    {
     "name": "stderr",
     "output_type": "stream",
     "text": [
      "C:\\Users\\aalok\\AppData\\Local\\Temp\\ipykernel_14788\\1279485031.py:1: FutureWarning: A value is trying to be set on a copy of a DataFrame or Series through chained assignment using an inplace method.\n",
      "The behavior will change in pandas 3.0. This inplace method will never work because the intermediate object on which we are setting values always behaves as a copy.\n",
      "\n",
      "For example, when doing 'df[col].method(value, inplace=True)', try using 'df.method({col: value}, inplace=True)' or df[col] = df[col].method(value) instead, to perform the operation inplace on the original object.\n",
      "\n",
      "\n",
      "  df_filter[\"Region\"].fillna(\"Missing\", inplace= True)\n",
      "C:\\Users\\aalok\\AppData\\Local\\Temp\\ipykernel_14788\\1279485031.py:1: SettingWithCopyWarning: \n",
      "A value is trying to be set on a copy of a slice from a DataFrame\n",
      "\n",
      "See the caveats in the documentation: https://pandas.pydata.org/pandas-docs/stable/user_guide/indexing.html#returning-a-view-versus-a-copy\n",
      "  df_filter[\"Region\"].fillna(\"Missing\", inplace= True)\n"
     ]
    }
   ],
   "source": [
    "df_filter[\"Region\"].fillna(\"Missing\", inplace= True)"
   ]
  },
  {
   "cell_type": "code",
   "execution_count": 30,
   "metadata": {},
   "outputs": [
    {
     "data": {
      "text/plain": [
       "<Axes: xlabel='Region'>"
      ]
     },
     "execution_count": 30,
     "metadata": {},
     "output_type": "execute_result"
    },
    {
     "data": {
      "image/png": "[encoded data removed]",
      "text/plain": [
       "<Figure size 640x480 with 1 Axes>"
      ]
     },
     "metadata": {},
     "output_type": "display_data"
    }
   ],
   "source": [
    "df_filter[\"Region\"].value_counts().plot(kind= \"bar\")"
   ]
  },
  {
   "cell_type": "code",
   "execution_count": 31,
   "metadata": {},
   "outputs": [
    {
     "data": {
      "text/plain": [
       "np.float64(19.215686274509807)"
      ]
     },
     "execution_count": 31,
     "metadata": {},
     "output_type": "execute_result"
    }
   ],
   "source": [
    "df_filter[\"IncomeGroup\"].isnull().mean()*100"
   ]
  },
  {
   "cell_type": "markdown",
   "metadata": {},
   "source": [
    "Again we see the same trend, we now do the same treatment for the IncomeGroup as well\n"
   ]
  },
  {
   "cell_type": "code",
   "execution_count": 32,
   "metadata": {},
   "outputs": [
    {
     "name": "stderr",
     "output_type": "stream",
     "text": [
      "C:\\Users\\aalok\\AppData\\Local\\Temp\\ipykernel_14788\\1625689117.py:1: FutureWarning: A value is trying to be set on a copy of a DataFrame or Series through chained assignment using an inplace method.\n",
      "The behavior will change in pandas 3.0. This inplace method will never work because the intermediate object on which we are setting values always behaves as a copy.\n",
      "\n",
      "For example, when doing 'df[col].method(value, inplace=True)', try using 'df.method({col: value}, inplace=True)' or df[col] = df[col].method(value) instead, to perform the operation inplace on the original object.\n",
      "\n",
      "\n",
      "  df_filter[\"IncomeGroup\"].fillna(\"Missing\", inplace= True)\n",
      "C:\\Users\\aalok\\AppData\\Local\\Temp\\ipykernel_14788\\1625689117.py:1: SettingWithCopyWarning: \n",
      "A value is trying to be set on a copy of a slice from a DataFrame\n",
      "\n",
      "See the caveats in the documentation: https://pandas.pydata.org/pandas-docs/stable/user_guide/indexing.html#returning-a-view-versus-a-copy\n",
      "  df_filter[\"IncomeGroup\"].fillna(\"Missing\", inplace= True)\n"
     ]
    }
   ],
   "source": [
    "df_filter[\"IncomeGroup\"].fillna(\"Missing\", inplace= True)\n"
   ]
  },
  {
   "cell_type": "code",
   "execution_count": 33,
   "metadata": {},
   "outputs": [
    {
     "data": {
      "text/plain": [
       "<Axes: xlabel='IncomeGroup'>"
      ]
     },
     "execution_count": 33,
     "metadata": {},
     "output_type": "execute_result"
    },
    {
     "data": {
      "image/png": "[encoded data removed]",
      "text/plain": [
       "<Figure size 640x480 with 1 Axes>"
      ]
     },
     "metadata": {},
     "output_type": "display_data"
    }
   ],
   "source": [
    "df_filter[\"IncomeGroup\"].value_counts().plot(kind= \"bar\")"
   ]
  },
  {
   "cell_type": "code",
   "execution_count": 34,
   "metadata": {},
   "outputs": [
    {
     "data": {
      "text/plain": [
       "np.int64(0)"
      ]
     },
     "execution_count": 34,
     "metadata": {},
     "output_type": "execute_result"
    }
   ],
   "source": [
    "(df_filter.isnull().sum()).sum()"
   ]
  },
  {
   "cell_type": "markdown",
   "metadata": {},
   "source": [
    "No more missing values in the dataframe"
   ]
  },
  {
   "cell_type": "code",
   "execution_count": 35,
   "metadata": {},
   "outputs": [
    {
     "name": "stdout",
     "output_type": "stream",
     "text": [
      "<class 'pandas.core.frame.DataFrame'>\n",
      "Index: 255 entries, 0 to 264\n",
      "Data columns (total 68 columns):\n",
      " #   Column          Non-Null Count  Dtype  \n",
      "---  ------          --------------  -----  \n",
      " 0   Country Name    255 non-null    object \n",
      " 1   Country Code    255 non-null    object \n",
      " 2   Indicator Name  255 non-null    object \n",
      " 3   Indicator Code  255 non-null    object \n",
      " 4   Region          255 non-null    object \n",
      " 5   IncomeGroup     255 non-null    object \n",
      " 6   TableName       255 non-null    object \n",
      " 7   1961            255 non-null    float64\n",
      " 8   1962            255 non-null    float64\n",
      " 9   1963            255 non-null    float64\n",
      " 10  1964            255 non-null    float64\n",
      " 11  1965            255 non-null    float64\n",
      " 12  1966            255 non-null    float64\n",
      " 13  1967            255 non-null    float64\n",
      " 14  1968            255 non-null    float64\n",
      " 15  1969            255 non-null    float64\n",
      " 16  1970            255 non-null    float64\n",
      " 17  1971            255 non-null    float64\n",
      " 18  1972            255 non-null    float64\n",
      " 19  1973            255 non-null    float64\n",
      " 20  1974            255 non-null    float64\n",
      " 21  1975            255 non-null    float64\n",
      " 22  1976            255 non-null    float64\n",
      " 23  1977            255 non-null    float64\n",
      " 24  1978            255 non-null    float64\n",
      " 25  1979            255 non-null    float64\n",
      " 26  1980            255 non-null    float64\n",
      " 27  1981            255 non-null    float64\n",
      " 28  1982            255 non-null    float64\n",
      " 29  1983            255 non-null    float64\n",
      " 30  1984            255 non-null    float64\n",
      " 31  1985            255 non-null    float64\n",
      " 32  1986            255 non-null    float64\n",
      " 33  1987            255 non-null    float64\n",
      " 34  1988            255 non-null    float64\n",
      " 35  1989            255 non-null    float64\n",
      " 36  1990            255 non-null    float64\n",
      " 37  1991            255 non-null    float64\n",
      " 38  1992            255 non-null    float64\n",
      " 39  1993            255 non-null    float64\n",
      " 40  1994            255 non-null    float64\n",
      " 41  1995            255 non-null    float64\n",
      " 42  1996            255 non-null    float64\n",
      " 43  1997            255 non-null    float64\n",
      " 44  1998            255 non-null    float64\n",
      " 45  1999            255 non-null    float64\n",
      " 46  2000            255 non-null    float64\n",
      " 47  2001            255 non-null    float64\n",
      " 48  2002            255 non-null    float64\n",
      " 49  2003            255 non-null    float64\n",
      " 50  2004            255 non-null    float64\n",
      " 51  2005            255 non-null    float64\n",
      " 52  2006            255 non-null    float64\n",
      " 53  2007            255 non-null    float64\n",
      " 54  2008            255 non-null    float64\n",
      " 55  2009            255 non-null    float64\n",
      " 56  2010            255 non-null    float64\n",
      " 57  2011            255 non-null    float64\n",
      " 58  2012            255 non-null    float64\n",
      " 59  2013            255 non-null    float64\n",
      " 60  2014            255 non-null    float64\n",
      " 61  2015            255 non-null    float64\n",
      " 62  2016            255 non-null    float64\n",
      " 63  2017            255 non-null    float64\n",
      " 64  2018            255 non-null    float64\n",
      " 65  2019            255 non-null    float64\n",
      " 66  2020            255 non-null    float64\n",
      " 67  2021            255 non-null    float64\n",
      "dtypes: float64(61), object(7)\n",
      "memory usage: 137.5+ KB\n"
     ]
    }
   ],
   "source": [
    "df_filter.info()"
   ]
  },
  {
   "cell_type": "code",
   "execution_count": 36,
   "metadata": {},
   "outputs": [],
   "source": [
    "numeric_df = df_filter.select_dtypes(include=['number'])"
   ]
  },
  {
   "cell_type": "code",
   "execution_count": 37,
   "metadata": {},
   "outputs": [
    {
     "data": {
      "text/html": [
       "<div>\n",
       "<style scoped>\n",
       "    .dataframe tbody tr th:only-of-type {\n",
       "        vertical-align: middle;\n",
       "    }\n",
       "\n",
       "    .dataframe tbody tr th {\n",
       "        vertical-align: top;\n",
       "    }\n",
       "\n",
       "    .dataframe thead th {\n",
       "        text-align: right;\n",
       "    }\n",
       "</style>\n",
       "<table border=\"1\" class=\"dataframe\">\n",
       "  <thead>\n",
       "    <tr style=\"text-align: right;\">\n",
       "      <th></th>\n",
       "      <th>1961</th>\n",
       "      <th>1962</th>\n",
       "      <th>1963</th>\n",
       "      <th>1964</th>\n",
       "      <th>1965</th>\n",
       "      <th>1966</th>\n",
       "      <th>1967</th>\n",
       "      <th>1968</th>\n",
       "      <th>1969</th>\n",
       "      <th>1970</th>\n",
       "      <th>...</th>\n",
       "      <th>2012</th>\n",
       "      <th>2013</th>\n",
       "      <th>2014</th>\n",
       "      <th>2015</th>\n",
       "      <th>2016</th>\n",
       "      <th>2017</th>\n",
       "      <th>2018</th>\n",
       "      <th>2019</th>\n",
       "      <th>2020</th>\n",
       "      <th>2021</th>\n",
       "    </tr>\n",
       "  </thead>\n",
       "  <tbody>\n",
       "    <tr>\n",
       "      <th>0</th>\n",
       "      <td>20.0</td>\n",
       "      <td>20.0</td>\n",
       "      <td>20.0</td>\n",
       "      <td>20.0</td>\n",
       "      <td>20.0</td>\n",
       "      <td>20.0</td>\n",
       "      <td>20.0</td>\n",
       "      <td>20.0</td>\n",
       "      <td>20.0</td>\n",
       "      <td>20.0</td>\n",
       "      <td>...</td>\n",
       "      <td>20.000</td>\n",
       "      <td>20.000</td>\n",
       "      <td>20.000</td>\n",
       "      <td>20.0</td>\n",
       "      <td>20.000</td>\n",
       "      <td>20.00</td>\n",
       "      <td>20.00</td>\n",
       "      <td>20.00</td>\n",
       "      <td>20.00</td>\n",
       "      <td>20.00</td>\n",
       "    </tr>\n",
       "    <tr>\n",
       "      <th>1</th>\n",
       "      <td>6170420.0</td>\n",
       "      <td>6167940.0</td>\n",
       "      <td>6173000.0</td>\n",
       "      <td>6170130.0</td>\n",
       "      <td>6167390.0</td>\n",
       "      <td>6170970.0</td>\n",
       "      <td>6172710.0</td>\n",
       "      <td>6177330.0</td>\n",
       "      <td>6184480.0</td>\n",
       "      <td>6194850.0</td>\n",
       "      <td>...</td>\n",
       "      <td>6789159.825</td>\n",
       "      <td>6806324.255</td>\n",
       "      <td>6825399.195</td>\n",
       "      <td>6836525.8</td>\n",
       "      <td>6851382.225</td>\n",
       "      <td>6868999.45</td>\n",
       "      <td>6882362.22</td>\n",
       "      <td>6891016.22</td>\n",
       "      <td>6898158.22</td>\n",
       "      <td>6900855.82</td>\n",
       "    </tr>\n",
       "    <tr>\n",
       "      <th>2</th>\n",
       "      <td>377500.0</td>\n",
       "      <td>378000.0</td>\n",
       "      <td>378500.0</td>\n",
       "      <td>379050.0</td>\n",
       "      <td>379100.0</td>\n",
       "      <td>379550.0</td>\n",
       "      <td>379790.0</td>\n",
       "      <td>379800.0</td>\n",
       "      <td>379960.0</td>\n",
       "      <td>380060.0</td>\n",
       "      <td>...</td>\n",
       "      <td>379140.000</td>\n",
       "      <td>379100.000</td>\n",
       "      <td>379100.000</td>\n",
       "      <td>379100.0</td>\n",
       "      <td>379100.000</td>\n",
       "      <td>379100.00</td>\n",
       "      <td>380100.00</td>\n",
       "      <td>380100.00</td>\n",
       "      <td>383130.00</td>\n",
       "      <td>383130.00</td>\n",
       "    </tr>\n",
       "  </tbody>\n",
       "</table>\n",
       "<p>3 rows × 61 columns</p>\n",
       "</div>"
      ],
      "text/plain": [
       "        1961       1962       1963       1964       1965       1966  \\\n",
       "0       20.0       20.0       20.0       20.0       20.0       20.0   \n",
       "1  6170420.0  6167940.0  6173000.0  6170130.0  6167390.0  6170970.0   \n",
       "2   377500.0   378000.0   378500.0   379050.0   379100.0   379550.0   \n",
       "\n",
       "        1967       1968       1969       1970  ...         2012         2013  \\\n",
       "0       20.0       20.0       20.0       20.0  ...       20.000       20.000   \n",
       "1  6172710.0  6177330.0  6184480.0  6194850.0  ...  6789159.825  6806324.255   \n",
       "2   379790.0   379800.0   379960.0   380060.0  ...   379140.000   379100.000   \n",
       "\n",
       "          2014       2015         2016        2017        2018        2019  \\\n",
       "0       20.000       20.0       20.000       20.00       20.00       20.00   \n",
       "1  6825399.195  6836525.8  6851382.225  6868999.45  6882362.22  6891016.22   \n",
       "2   379100.000   379100.0   379100.000   379100.00   380100.00   380100.00   \n",
       "\n",
       "         2020        2021  \n",
       "0       20.00       20.00  \n",
       "1  6898158.22  6900855.82  \n",
       "2   383130.00   383130.00  \n",
       "\n",
       "[3 rows x 61 columns]"
      ]
     },
     "execution_count": 37,
     "metadata": {},
     "output_type": "execute_result"
    }
   ],
   "source": [
    "numeric_df.head(3)"
   ]
  },
  {
   "cell_type": "code",
   "execution_count": 38,
   "metadata": {},
   "outputs": [],
   "source": [
    "col_sum= numeric_df.sum().tolist()"
   ]
  },
  {
   "cell_type": "code",
   "execution_count": 39,
   "metadata": {},
   "outputs": [
    {
     "name": "stdout",
     "output_type": "stream",
     "text": [
      "[466500091.075, 467448513.395, 468489828.36200005, 469457929.776, 470592009.84000003, 471558362.837, 472596110.619, 475171843.64100003, 475897814.51900005, 475821654.015, 477485259.797, 479154785.28000003, 480421986.398, 481814163.71999997, 483000969.8679999, 482981446.241, 484044163.209, 485958168.956, 487083647.314, 488461759.268, 489068667.694, 490645619.026, 491904348.964, 494469526.76199996, 497532418.92399997, 498244081.5960001, 500172818.64199996, 501976450.242, 503365235.66199994, 504697637.18, 505482574.019, 506230352.971, 503978513.203, 505981364.10300004, 506128290.10899997, 506946740.018, 509216238.555, 510322168.056, 511041795.83299994, 511647730.845, 511993957.746, 511738837.742, 510418199.263, 508210857.918, 508618786.701, 509006484.361, 508880364.58299994, 507777070.4749999, 507751843.95600003, 508440357.561, 509835076.712, 509168039.699, 509003647.284, 508964792.749, 508010647.363, 507958419.444, 510064333.82, 509507906.65099996, 509703075.40900004, 509758935.814, 510351831.612]\n"
     ]
    }
   ],
   "source": [
    "print(col_sum)"
   ]
  },
  {
   "cell_type": "code",
   "execution_count": 40,
   "metadata": {},
   "outputs": [],
   "source": [
    "col_names= numeric_df.columns.tolist()\n"
   ]
  },
  {
   "cell_type": "code",
   "execution_count": 41,
   "metadata": {},
   "outputs": [
    {
     "name": "stderr",
     "output_type": "stream",
     "text": [
      "C:\\Users\\aalok\\AppData\\Local\\Temp\\ipykernel_14788\\530602178.py:9: UserWarning: set_ticklabels() should only be used with a fixed number of ticks, i.e. after set_ticks() or using a FixedLocator.\n",
      "  fig.set_xticklabels(['1950','1960','1970', '1980', '1990', '2000', '2010', '2020'])\n"
     ]
    },
    {
     "data": {
      "image/png": "[encoded data removed]",
      "text/plain": [
       "<Figure size 640x480 with 1 Axes>"
      ]
     },
     "metadata": {},
     "output_type": "display_data"
    }
   ],
   "source": [
    "col_sum_series= pd.Series(col_sum, name='summation')\n",
    "\n",
    "\n",
    "fig= sns.lineplot(data=col_sum_series, marker='.', color= \"red\")\n",
    "\n",
    "# plt.xticks([0, 10, 20, 30 ,40, 50, 60], ['1960', '1970', '1980','1990', '2000', '2010', '2020']) \n",
    "\n",
    "# fig.set_xticks(range(6))\n",
    "fig.set_xticklabels(['1950','1960','1970', '1980', '1990', '2000', '2010', '2020'])\n",
    "# fig.setyticklabels([])\n",
    "\n",
    "plt.grid(True, linestyle='--', alpha=0.6)"
   ]
  },
  {
   "cell_type": "code",
   "execution_count": null,
   "metadata": {},
   "outputs": [],
   "source": []
  }
 ],
 "metadata": {
  "kernelspec": {
   "display_name": "Python 3",
   "language": "python",
   "name": "python3"
  },
  "language_info": {
   "codemirror_mode": {
    "name": "ipython",
    "version": 3
   },
   "file_extension": ".py",
   "mimetype": "text/x-python",
   "name": "python",
   "nbconvert_exporter": "python",
   "pygments_lexer": "ipython3",
   "version": "3.11.11"
  }
 },
 "nbformat": 4,
 "nbformat_minor": 2
}
